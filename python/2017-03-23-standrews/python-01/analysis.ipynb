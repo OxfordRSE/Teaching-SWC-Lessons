{
 "cells": [
  {
   "cell_type": "markdown",
   "metadata": {
    "deletable": true,
    "editable": true
   },
   "source": [
    "# Data analysis\n",
    "\n",
    "This notebook introduces the use of `Jupyter` notebook and `Python` for data analysis."
   ]
  },
  {
   "cell_type": "code",
   "execution_count": 1,
   "metadata": {
    "collapsed": false,
    "deletable": true,
    "editable": true
   },
   "outputs": [
    {
     "name": "stdout",
     "output_type": "stream",
     "text": [
      "Populating the interactive namespace from numpy and matplotlib\n"
     ]
    },
    {
     "name": "stderr",
     "output_type": "stream",
     "text": [
      "/Users/lpritc/Documents/Development/Teaching/Teaching-SWC-Lessons/venv-swc/lib/python3.6/site-packages/IPython/html.py:14: ShimWarning: The `IPython.html` package has been deprecated since IPython 4.0. You should import from `notebook` instead. `IPython.html.widgets` has moved to `ipywidgets`.\n",
      "  \"`IPython.html.widgets` has moved to `ipywidgets`.\", ShimWarning)\n"
     ]
    }
   ],
   "source": [
    "%pylab inline\n",
    "import numpy\n",
    "import seaborn"
   ]
  },
  {
   "cell_type": "code",
   "execution_count": 2,
   "metadata": {
    "collapsed": false,
    "deletable": true,
    "editable": true
   },
   "outputs": [
    {
     "data": {
      "text/plain": [
       "array([[ 0.,  0.,  1., ...,  3.,  0.,  0.],\n",
       "       [ 0.,  1.,  2., ...,  1.,  0.,  1.],\n",
       "       [ 0.,  1.,  1., ...,  2.,  1.,  1.],\n",
       "       ..., \n",
       "       [ 0.,  1.,  1., ...,  1.,  1.,  1.],\n",
       "       [ 0.,  0.,  0., ...,  0.,  2.,  0.],\n",
       "       [ 0.,  0.,  1., ...,  1.,  1.,  0.]])"
      ]
     },
     "execution_count": 2,
     "metadata": {},
     "output_type": "execute_result"
    }
   ],
   "source": [
    "numpy.loadtxt(fname='data/inflammation-01.csv', delimiter=',')"
   ]
  },
  {
   "cell_type": "code",
   "execution_count": 3,
   "metadata": {
    "collapsed": true,
    "deletable": true,
    "editable": true
   },
   "outputs": [],
   "source": [
    "data = numpy.loadtxt(fname='data/inflammation-01.csv', delimiter=',')"
   ]
  },
  {
   "cell_type": "code",
   "execution_count": 4,
   "metadata": {
    "collapsed": false,
    "deletable": true,
    "editable": true
   },
   "outputs": [
    {
     "data": {
      "text/plain": [
       "numpy.ndarray"
      ]
     },
     "execution_count": 4,
     "metadata": {},
     "output_type": "execute_result"
    }
   ],
   "source": [
    "type(data)"
   ]
  },
  {
   "cell_type": "code",
   "execution_count": 5,
   "metadata": {
    "collapsed": false,
    "deletable": true,
    "editable": true
   },
   "outputs": [
    {
     "name": "stdout",
     "output_type": "stream",
     "text": [
      "float64\n"
     ]
    }
   ],
   "source": [
    "print(data.dtype)"
   ]
  },
  {
   "cell_type": "code",
   "execution_count": 6,
   "metadata": {
    "collapsed": false,
    "deletable": true,
    "editable": true
   },
   "outputs": [
    {
     "name": "stdout",
     "output_type": "stream",
     "text": [
      "(60, 40)\n"
     ]
    }
   ],
   "source": [
    "print(data.shape)"
   ]
  },
  {
   "cell_type": "markdown",
   "metadata": {
    "deletable": true,
    "editable": true
   },
   "source": [
    "## Indexing arrays\n",
    "\n",
    "Arrays are indexed by *row* and *column*, using *square bracket* notation:\n",
    "\n",
    "```python\n",
    "data[30, 20]  # get entry at row 30, column 20 of the array\n",
    "```\n",
    "\n",
    "Counting of array elements starts at 0 (zero), not at 1 (one)."
   ]
  },
  {
   "cell_type": "code",
   "execution_count": 7,
   "metadata": {
    "collapsed": false,
    "deletable": true,
    "editable": true
   },
   "outputs": [
    {
     "name": "stdout",
     "output_type": "stream",
     "text": [
      "first value in data: 0.0\n"
     ]
    }
   ],
   "source": [
    "print('first value in data:', data[0, 0])"
   ]
  },
  {
   "cell_type": "code",
   "execution_count": 8,
   "metadata": {
    "collapsed": false,
    "deletable": true,
    "editable": true
   },
   "outputs": [
    {
     "name": "stdout",
     "output_type": "stream",
     "text": [
      "middle value in data: 13.0\n"
     ]
    }
   ],
   "source": [
    "print('middle value in data:', data[30, 20])"
   ]
  },
  {
   "cell_type": "markdown",
   "metadata": {
    "collapsed": true,
    "deletable": true,
    "editable": true
   },
   "source": [
    "## Slicing arrays\n",
    "\n",
    "We can select whole sections of arrays by *slicing* them: defining the start and end points of the *slice* in square brackets, separating start and end with `:` (colon)\n",
    "\n",
    "```python\n",
    "data[0:4, 0:10]\n",
    "```\n",
    "\n",
    "The slice `0:4` means \"*start at index 0 and go up to, but not including, index 4*\""
   ]
  },
  {
   "cell_type": "code",
   "execution_count": 9,
   "metadata": {
    "collapsed": false,
    "deletable": true,
    "editable": true
   },
   "outputs": [
    {
     "name": "stdout",
     "output_type": "stream",
     "text": [
      "[[ 0.  0.  1.  3.  1.  2.  4.  7.  8.  3.]\n",
      " [ 0.  1.  2.  1.  2.  1.  3.  2.  2.  6.]\n",
      " [ 0.  1.  1.  3.  3.  2.  6.  2.  5.  9.]\n",
      " [ 0.  0.  2.  0.  4.  2.  2.  1.  6.  7.]]\n"
     ]
    }
   ],
   "source": [
    "print(data[0:4, 0:10])"
   ]
  },
  {
   "cell_type": "code",
   "execution_count": 10,
   "metadata": {
    "collapsed": false,
    "deletable": true,
    "editable": true
   },
   "outputs": [
    {
     "name": "stdout",
     "output_type": "stream",
     "text": [
      "[[ 0.  0.  1.  2.  2.  4.  2.  1.  6.  4.]\n",
      " [ 0.  0.  2.  2.  4.  2.  2.  5.  5.  8.]\n",
      " [ 0.  0.  1.  2.  3.  1.  2.  3.  5.  3.]\n",
      " [ 0.  0.  0.  3.  1.  5.  6.  5.  5.  8.]\n",
      " [ 0.  1.  1.  2.  1.  3.  5.  3.  5.  8.]]\n"
     ]
    }
   ],
   "source": [
    "print(data[5:10, 0:10])"
   ]
  },
  {
   "cell_type": "markdown",
   "metadata": {
    "deletable": true,
    "editable": true
   },
   "source": [
    "If we don't specify a *start* to the slice, `Python` assumes we mean the beginning of the axis (first element, `0` (zero)).\n",
    "\n",
    "If we don't specify an *end* to the slice, `Python` assumes we mean the end of the axis (last element."
   ]
  },
  {
   "cell_type": "code",
   "execution_count": 11,
   "metadata": {
    "collapsed": false,
    "deletable": true,
    "editable": true
   },
   "outputs": [
    {
     "name": "stdout",
     "output_type": "stream",
     "text": [
      "small is:\n",
      "[[ 2.  3.  0.  0.]\n",
      " [ 1.  1.  0.  1.]\n",
      " [ 2.  2.  1.  1.]]\n"
     ]
    }
   ],
   "source": [
    "small = data[:3, 36:]\n",
    "print('small is:')\n",
    "print(small)"
   ]
  },
  {
   "cell_type": "markdown",
   "metadata": {
    "deletable": true,
    "editable": true
   },
   "source": [
    "# Operations on arrays\n",
    "\n",
    "Arithmetic operations, such as `+`, `-`, `*`, `/` are performed *elementwise* on arrays.\n",
    "\n",
    "We can multiply an array by a scalar."
   ]
  },
  {
   "cell_type": "code",
   "execution_count": 12,
   "metadata": {
    "collapsed": true,
    "deletable": true,
    "editable": true
   },
   "outputs": [],
   "source": [
    "doubledata = data * 2.0"
   ]
  },
  {
   "cell_type": "code",
   "execution_count": 13,
   "metadata": {
    "collapsed": false,
    "deletable": true,
    "editable": true
   },
   "outputs": [
    {
     "name": "stdout",
     "output_type": "stream",
     "text": [
      "original:\n",
      "[[ 2.  3.  0.  0.]\n",
      " [ 1.  1.  0.  1.]\n",
      " [ 2.  2.  1.  1.]]\n",
      "doubledata:\n",
      "[[ 4.  6.  0.  0.]\n",
      " [ 2.  2.  0.  2.]\n",
      " [ 4.  4.  2.  2.]]\n"
     ]
    }
   ],
   "source": [
    "print('original:')\n",
    "print(data[:3, 36:])\n",
    "print('doubledata:')\n",
    "print(doubledata[:3, 36:])"
   ]
  },
  {
   "cell_type": "markdown",
   "metadata": {
    "deletable": true,
    "editable": true
   },
   "source": [
    "Adding two arrays is also performed elementwise."
   ]
  },
  {
   "cell_type": "code",
   "execution_count": 14,
   "metadata": {
    "collapsed": true,
    "deletable": true,
    "editable": true
   },
   "outputs": [],
   "source": [
    "tripledata = doubledata + data"
   ]
  },
  {
   "cell_type": "code",
   "execution_count": 15,
   "metadata": {
    "collapsed": false,
    "deletable": true,
    "editable": true
   },
   "outputs": [
    {
     "name": "stdout",
     "output_type": "stream",
     "text": [
      "tripledata:\n",
      "[[ 6.  9.  0.  0.]\n",
      " [ 3.  3.  0.  3.]\n",
      " [ 6.  6.  3.  3.]]\n"
     ]
    }
   ],
   "source": [
    "print('tripledata:')\n",
    "print(tripledata[:3, 36:])"
   ]
  },
  {
   "cell_type": "markdown",
   "metadata": {
    "deletable": true,
    "editable": true
   },
   "source": [
    "`numpy` provides functions that operate on `array`s, e.g. to provide statistical summaries."
   ]
  },
  {
   "cell_type": "code",
   "execution_count": 16,
   "metadata": {
    "collapsed": false,
    "deletable": true,
    "editable": true
   },
   "outputs": [
    {
     "name": "stdout",
     "output_type": "stream",
     "text": [
      "6.14875\n"
     ]
    }
   ],
   "source": [
    "print(numpy.mean(data))"
   ]
  },
  {
   "cell_type": "code",
   "execution_count": 17,
   "metadata": {
    "collapsed": false,
    "deletable": true,
    "editable": true
   },
   "outputs": [
    {
     "name": "stdout",
     "output_type": "stream",
     "text": [
      "maximum inflammation: 20.0\n",
      "minimum inflammation: 0.0\n",
      "standard deviation: 4.61383319712\n"
     ]
    }
   ],
   "source": [
    "maxval, minval, stdval = numpy.max(data), numpy.min(data), numpy.std(data)\n",
    "\n",
    "print('maximum inflammation:', maxval)\n",
    "print('minimum inflammation:', minval)\n",
    "print('standard deviation:', stdval)"
   ]
  },
  {
   "cell_type": "markdown",
   "metadata": {
    "deletable": true,
    "editable": true
   },
   "source": [
    "The data itself has these operations built-in."
   ]
  },
  {
   "cell_type": "code",
   "execution_count": 18,
   "metadata": {
    "collapsed": false,
    "deletable": true,
    "editable": true
   },
   "outputs": [
    {
     "name": "stdout",
     "output_type": "stream",
     "text": [
      "maximum inflammation: 20.0\n",
      "minimum inflammation: 0.0\n",
      "standard deviation: 4.61383319712\n"
     ]
    }
   ],
   "source": [
    "maxval, minval, stdval = data.max(), data.min(), data.std()\n",
    "\n",
    "print('maximum inflammation:', maxval)\n",
    "print('minimum inflammation:', minval)\n",
    "print('standard deviation:', stdval)"
   ]
  },
  {
   "cell_type": "markdown",
   "metadata": {
    "deletable": true,
    "editable": true
   },
   "source": [
    "By default, these functions operate on the complete dataset. But what if we want to summarise the data row-by-row, to get a summary for each patient?\n",
    "\n",
    "We can put the data for a single patient into a new variable, and use its `.mean()` function."
   ]
  },
  {
   "cell_type": "code",
   "execution_count": 19,
   "metadata": {
    "collapsed": false,
    "deletable": true,
    "editable": true
   },
   "outputs": [
    {
     "name": "stdout",
     "output_type": "stream",
     "text": [
      "maximum inflammation for patient 0: 18.0\n"
     ]
    }
   ],
   "source": [
    "patient_0 = data[0, :] # Row zero only, all columns\n",
    "print('maximum inflammation for patient 0:', patient_0.max())"
   ]
  },
  {
   "cell_type": "markdown",
   "metadata": {
    "deletable": true,
    "editable": true
   },
   "source": [
    "We can also operate directly on a row, without assigning it to a variable first."
   ]
  },
  {
   "cell_type": "code",
   "execution_count": 20,
   "metadata": {
    "collapsed": false,
    "deletable": true,
    "editable": true
   },
   "outputs": [
    {
     "name": "stdout",
     "output_type": "stream",
     "text": [
      "maximum inflammation for patient 0: 18.0\n",
      "maximum inflammation for patient 2: 19.0\n"
     ]
    }
   ],
   "source": [
    "print('maximum inflammation for patient 0:', numpy.max(data[0, :]))\n",
    "print('maximum inflammation for patient 2:', numpy.max(data[2, :]))"
   ]
  },
  {
   "cell_type": "markdown",
   "metadata": {
    "deletable": true,
    "editable": true
   },
   "source": [
    "But what if we want the maximum inflammation for each patient, or the average inflammation per day?\n",
    "\n",
    "We could write one line per patient, or per day, but this would be tedious and prone to errors and typos.\n",
    "\n",
    "There is an alternative, which is to specify which axis the `numpy` function works on:\n",
    "\n",
    "![`numpy` operations across rows and columns](images/python-operations-across-axes.png)\n",
    "\n",
    "So, to get the maximum inflammation for each patient (row), we could use:"
   ]
  },
  {
   "cell_type": "code",
   "execution_count": 21,
   "metadata": {
    "collapsed": false,
    "deletable": true,
    "editable": true,
    "scrolled": true
   },
   "outputs": [
    {
     "name": "stdout",
     "output_type": "stream",
     "text": [
      "[ 18.  18.  19.  17.  17.  18.  17.  20.  17.  18.  18.  18.  17.  16.  17.\n",
      "  18.  19.  19.  17.  19.  19.  16.  17.  15.  17.  17.  18.  17.  20.  17.\n",
      "  16.  19.  15.  15.  19.  17.  16.  17.  19.  16.  18.  19.  16.  19.  18.\n",
      "  16.  19.  15.  16.  18.  14.  20.  17.  15.  17.  16.  17.  19.  18.  18.]\n"
     ]
    }
   ],
   "source": [
    "print(numpy.max(data, axis=1))"
   ]
  },
  {
   "cell_type": "markdown",
   "metadata": {
    "deletable": true,
    "editable": true
   },
   "source": [
    "Or, for average inflammation per day (column):"
   ]
  },
  {
   "cell_type": "code",
   "execution_count": 22,
   "metadata": {
    "collapsed": false,
    "deletable": true,
    "editable": true
   },
   "outputs": [
    {
     "name": "stdout",
     "output_type": "stream",
     "text": [
      "[  0.           0.45         1.11666667   1.75         2.43333333   3.15\n",
      "   3.8          3.88333333   5.23333333   5.51666667   5.95         5.9\n",
      "   8.35         7.73333333   8.36666667   9.5          9.58333333\n",
      "  10.63333333  11.56666667  12.35        13.25        11.96666667\n",
      "  11.03333333  10.16666667  10.           8.66666667   9.15         7.25\n",
      "   7.33333333   6.58333333   6.06666667   5.95         5.11666667   3.6\n",
      "   3.3          3.56666667   2.48333333   1.5          1.13333333\n",
      "   0.56666667]\n"
     ]
    }
   ],
   "source": [
    "print(data.mean(axis=0))"
   ]
  },
  {
   "cell_type": "markdown",
   "metadata": {
    "deletable": true,
    "editable": true
   },
   "source": [
    "## Visualisation\n",
    "\n",
    "> \"The purpose of computing is insight, not numbers\" - Richard Hamming\n",
    "\n",
    "The best way to gain insight is often to visualise data."
   ]
  },
  {
   "cell_type": "markdown",
   "metadata": {
    "deletable": true,
    "editable": true
   },
   "source": [
    "There is no \"official\" `Python` plotting library, but `matplotlib` is essentially the *de facto* standard.\n",
    "\n",
    "We import `matplotlib` with:\n",
    "\n",
    "```python\n",
    "import matplotlib.pyplot\n",
    "```\n",
    "\n",
    "We imported `seaborn` right at the start of the notebook, and this modifies `matplotlib`'s output styles, so they are a little more 'publication-ready'. \n",
    "\n",
    "We used `%pylab inline` right at the start of the notebook, and this makes `matplotlib` put its output into the notebook.\n",
    "\n",
    "The `.imshow()` function in `matplotlib.pyplot` renders matrix data as an image:"
   ]
  },
  {
   "cell_type": "code",
   "execution_count": 23,
   "metadata": {
    "collapsed": false,
    "deletable": true,
    "editable": true
   },
   "outputs": [
    {
     "data": {
      "image/png": "[encoded data removed]",
      "text/plain": [
       "<matplotlib.figure.Figure at 0x113d0f5f8>"
      ]
     },
     "metadata": {},
     "output_type": "display_data"
    }
   ],
   "source": [
    "import matplotlib.pyplot\n",
    "image = matplotlib.pyplot.imshow(data)"
   ]
  },
  {
   "cell_type": "markdown",
   "metadata": {
    "deletable": true,
    "editable": true
   },
   "source": [
    "The light squares are small values, and the dark squares large values. So we can see that inflammation rises and falls over a 40-day period."
   ]
  },
  {
   "cell_type": "markdown",
   "metadata": {
    "deletable": true,
    "editable": true
   },
   "source": [
    "The `.plot()` function in `matplotlib` shows us a more conventional line plot. We can use this to show the average inflammation on each day across all patients."
   ]
  },
  {
   "cell_type": "code",
   "execution_count": 24,
   "metadata": {
    "collapsed": false,
    "deletable": true,
    "editable": true
   },
   "outputs": [
    {
     "data": {
      "image/png": "[encoded data removed]",
      "text/plain": [
       "<matplotlib.figure.Figure at 0x113df9c18>"
      ]
     },
     "metadata": {},
     "output_type": "display_data"
    }
   ],
   "source": [
    "ave_inflammation = numpy.mean(data, axis=0)\n",
    "ave_plot = matplotlib.pyplot.plot(ave_inflammation)"
   ]
  },
  {
   "cell_type": "markdown",
   "metadata": {
    "deletable": true,
    "editable": true
   },
   "source": [
    "This is biologically suspicious. Based on other studies, we'd expect a sharp rise and slow fall. This looks like a linear rise and fall. We can look at two other statistics."
   ]
  },
  {
   "cell_type": "code",
   "execution_count": 25,
   "metadata": {
    "collapsed": false,
    "deletable": true,
    "editable": true
   },
   "outputs": [
    {
     "data": {
      "image/png": "[encoded data removed]",
      "text/plain": [
       "<matplotlib.figure.Figure at 0x11420b6d8>"
      ]
     },
     "metadata": {},
     "output_type": "display_data"
    }
   ],
   "source": [
    "max_plot = matplotlib.pyplot.plot(numpy.max(data, axis=0))"
   ]
  },
  {
   "cell_type": "code",
   "execution_count": 26,
   "metadata": {
    "collapsed": false,
    "deletable": true,
    "editable": true
   },
   "outputs": [
    {
     "data": {
      "image/png": "[encoded data removed]",
      "text/plain": [
       "<matplotlib.figure.Figure at 0x113ce8cf8>"
      ]
     },
     "metadata": {},
     "output_type": "display_data"
    }
   ],
   "source": [
    "min_plot = matplotlib.pyplot.plot(numpy.min(data, axis=0))"
   ]
  },
  {
   "cell_type": "markdown",
   "metadata": {
    "deletable": true,
    "editable": true
   },
   "source": [
    "The maximum value each day rises and falls perfectly smoothly. The minimum value appears to be a step function. Both of these datasets appear to be quite artifical, compared with the biological expectation.\n",
    "\n",
    "It would have been difficult to reach this insight without examining graphs of the data."
   ]
  },
  {
   "cell_type": "markdown",
   "metadata": {
    "deletable": true,
    "editable": true
   },
   "source": [
    "### Subplots\n",
    "\n",
    "We can group plots in a single figure using *subplots*.\n",
    "\n",
    "To do this, we first create a *figure* in the variable `fig`, using `matplotlib.pyplot.figure()`.\n",
    "\n",
    "Using the *figure*'s `add_subplot()` function, we add three *subplots* to the *figure* in `fig`, putting these into the variables `axes1`, `axes2`, and `axes3`.\n",
    "\n",
    "For each of the *subplots* in turn, we label the $y$-axis with something meaningful, and use its `.plot()` function to show the values in the `data` array."
   ]
  },
  {
   "cell_type": "code",
   "execution_count": 27,
   "metadata": {
    "collapsed": false,
    "deletable": true,
    "editable": true
   },
   "outputs": [
    {
     "data": {
      "image/png": "[encoded data removed]",
      "text/plain": [
       "<matplotlib.figure.Figure at 0x1143a7f60>"
      ]
     },
     "metadata": {},
     "output_type": "display_data"
    }
   ],
   "source": [
    "fig = matplotlib.pyplot.figure(figsize=(10.0, 3.0))\n",
    "\n",
    "axes1 = fig.add_subplot(1, 3, 1)                     # Add three subplots\n",
    "axes2 = fig.add_subplot(1, 3, 2)\n",
    "axes3 = fig.add_subplot(1, 3, 3)\n",
    "\n",
    "axes1.set_ylabel('average')                          # Label and plot the graphs\n",
    "axes1.plot(numpy.mean(data, axis=0))\n",
    "\n",
    "axes2.set_ylabel('max')\n",
    "axes2.plot(numpy.max(data, axis=0))\n",
    "\n",
    "axes3.set_ylabel('min')\n",
    "axes3.plot(numpy.min(data, axis=0))\n",
    "\n",
    "fig.tight_layout()                                   # tidy the figure"
   ]
  },
  {
   "cell_type": "code",
   "execution_count": null,
   "metadata": {
    "collapsed": true,
    "deletable": true,
    "editable": true
   },
   "outputs": [],
   "source": []
  }
 ],
 "metadata": {
  "kernelspec": {
   "display_name": "Python 3 (Teaching-SWC-Lessons)",
   "language": "python",
   "name": "python3_swc"
  },
  "language_info": {
   "codemirror_mode": {
    "name": "ipython",
    "version": 3
   },
   "file_extension": ".py",
   "mimetype": "text/x-python",
   "name": "python",
   "nbconvert_exporter": "python",
   "pygments_lexer": "ipython3",
   "version": "3.6.0"
  }
 },
 "nbformat": 4,
 "nbformat_minor": 2
}
