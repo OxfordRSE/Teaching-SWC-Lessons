{
 "cells": [
  {
   "cell_type": "markdown",
   "metadata": {},
   "source": [
    "# Software Carpentry Lesson Materials\n",
    "\n",
    "## Motivation\n",
    "I've been a Software/Data Carpentry instructor since 2015, and in that time I've delivered the SWC material in a few different ways. This repository collects in one place the various slides, speaker notes and extra bits and pieces that I've delivered for all these courses.\n",
    "\n",
    "All of this work derives from the original Software and Data Carpentry lessons, and I'm sharing these materials under the same license as the original Software Carpentry lessons (see [LICENSE.md](LICENSE.md) for details).\n",
    "\n",
    "**The Carpentries:**\n",
    "\n",
    "* Software Carpentry: [https://software-carpentry.org/](https://software-carpentry.org/)\n",
    "* Data Carpentry: [http://www.datacarpentry.org/](http://www.datacarpentry.org/)\n",
    "* Library Carpentry: [https://librarycarpentry.github.io/](https://librarycarpentry.github.io/)"
   ]
  },
  {
   "cell_type": "markdown",
   "metadata": {},
   "source": [
    "## Jupyter Notebooks\n",
    "\n",
    "The `Python` lessons I have delivered have been (mostly) through Jupyter notebooks.\n",
    "\n",
    "You can start an instance of this repository under MyBinder, by clicking on [this link], or the button below.\n",
    "\n",
    "\n",
    "The Jupyter notebooks are linked directly below:\n",
    "\n",
    "* 2017-03-23 St Andrews:\n",
    "  * [Variables](./python/2017-03-23-standrews/python-01/variables.ipynb)\n",
    "  * [Data analysis and visualisation](./python/2017-03-23-standrews/python-01/analysis.ipynb)\n",
    "  * [Loops](./python/2017-03-23-standrews/python-01/loops.ipynb)\n",
    "  * [Lists](./python/2017-03-23-standrews/python-01/lists.ipynb)\n",
    "  * [Making choices](./python/2017-03-23-standrews/python-01/choices.ipynb)\n",
    "  * [Working with multiple files](./python/2017-03-23-standrews/python-01/multiple.ipynb)\n",
    "  * [Functions](./python/2017-03-23-standrews/python-02/functions.ipynb)\n",
    "  * [Errors](./python/2017-03-23-standrews/python-02/errors.ipynb)\n",
    "  * [Defensive programming](./python/2017-03-23-standrews/python-02/defensive.ipynb)  "
   ]
  },
  {
   "cell_type": "markdown",
   "metadata": {},
   "source": [
    "## Slidesets\n",
    "\n",
    "* 2017-03-23 St Andrews:\n",
    "  * [Python lesson 01](./python/2017-03-23-standrews/python-01/slides.html)\n",
    "  * [Python lesson 02](./python/2017-03-23-standrews/python-02/slides.html)"
   ]
  },
  {
   "cell_type": "markdown",
   "metadata": {},
   "source": [
    "## Courses\n",
    "\n",
    "### 2015-11-16 Manchester\n",
    "\n",
    "* [Repository](https://github.com/kkwakwa/2015-11-16-manchester-codima)\n",
    "* [Website](http://kkwakwa.github.io/2015-11-16-manchester-codima/)\n",
    "* Lead instructor: Kwasi Kwakwa\n",
    "\n",
    "Delivered as part of the first CoDiMa Training School in Computational Discrete Mathematics, at the University of Manchester\n",
    "\n",
    "### 2016-01-11 Dundee\n",
    "\n",
    "* [Repository](https://github.com/widdowquinn/2016-01-11-dundee)\n",
    "* [Website](http://widdowquinn.github.io/2016-01-11-dundee/)\n",
    "* Lead instructor: Leighton Pritchard\n",
    "\n",
    "Delivered to postgrads, postdocs and staff at the University of Dundee\n",
    "\n",
    "### 2016-10-17-Edinburgh \n",
    "\n",
    "* [Repository](https://github.com/widdowquinn/2016-10-17-edinburgh)\n",
    "* [Website](https://widdowquinn.github.io/2016-10-17-edinburgh/)\n",
    "* Lead instructor: Leighton Pritchard\n",
    "\n",
    "Delivered as part of the second CoDiMa Training School in Computational Discrete Mathematics, at the University of Edinburgh\n",
    "\n",
    "### 2017-01-09 Dundee\n",
    "\n",
    "* [Repository](https://github.com/widdowquinn/2017-01-09-dundee)\n",
    "* [Website](https://widdowquinn.github.io/2017-01-09-dundee/)\n",
    "* Lead instructor: Leighton Pritchard\n",
    "\n",
    "Delivered to postgrads, postdocs and staff at the University of Dundee\n",
    "\n",
    "### 2017-03-23 St Andrews\n",
    "\n",
    "* [Repository](https://github.com/alex-konovalov/2017-03-23-standrews)\n",
    "* [Website](https://alex-konovalov.github.io/2017-03-23-standrews/)\n",
    "* Lead instructor: Alex Konovalov\n",
    "\n",
    "Delivered to postgrads, postdocs and staff at the University of St Andrews"
   ]
  }
 ],
 "metadata": {
  "kernelspec": {
   "display_name": "Python 3",
   "language": "python",
   "name": "python3"
  },
  "language_info": {
   "codemirror_mode": {
    "name": "ipython",
    "version": 3
   },
   "file_extension": ".py",
   "mimetype": "text/x-python",
   "name": "python",
   "nbconvert_exporter": "python",
   "pygments_lexer": "ipython3",
   "version": "3.5.2"
  }
 },
 "nbformat": 4,
 "nbformat_minor": 2
}
